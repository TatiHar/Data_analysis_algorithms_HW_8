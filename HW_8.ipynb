{
 "cells": [
  {
   "cell_type": "code",
   "execution_count": 1,
   "metadata": {},
   "outputs": [],
   "source": [
    "import numpy as np\n",
    "from sklearn import datasets\n",
    "from sklearn.model_selection import train_test_split\n",
    "from sklearn.ensemble import RandomForestClassifier as RFC\n",
    "from sklearn.decomposition import PCA\n",
    "from sklearn.metrics import f1_score"
   ]
  },
  {
   "cell_type": "markdown",
   "metadata": {},
   "source": [
    "1"
   ]
  },
  {
   "cell_type": "code",
   "execution_count": 3,
   "metadata": {},
   "outputs": [],
   "source": [
    "iris = datasets.load_iris()\n",
    "x = iris.data\n",
    "y = iris.target"
   ]
  },
  {
   "cell_type": "code",
   "execution_count": 4,
   "metadata": {},
   "outputs": [],
   "source": [
    "x_train, x_test, y_train, y_test = train_test_split(x, y, test_size=0.25)"
   ]
  },
  {
   "cell_type": "code",
   "execution_count": 5,
   "metadata": {},
   "outputs": [],
   "source": [
    "x_pca = PCA(n_components=2, random_state=42).fit_transform(x)"
   ]
  },
  {
   "cell_type": "code",
   "execution_count": 6,
   "metadata": {},
   "outputs": [],
   "source": [
    "x_train_pca, x_test_pca, y_train_pca, y_test_pca = train_test_split(x_pca, y, test_size=0.25)"
   ]
  },
  {
   "cell_type": "code",
   "execution_count": 7,
   "metadata": {},
   "outputs": [],
   "source": [
    "clf = RFC(n_jobs=-1).fit(x_train, y_train)\n",
    "clf_pca = RFC(n_jobs=-1).fit(x_train_pca, y_train_pca)"
   ]
  },
  {
   "cell_type": "code",
   "execution_count": 8,
   "metadata": {},
   "outputs": [
    {
     "name": "stdout",
     "output_type": "stream",
     "text": [
      "До применения PCA F1-score: 1.0\n",
      "После применения PCA F1-score: 0.9736842105263158\n"
     ]
    }
   ],
   "source": [
    "print(f\"До применения PCA F1-score: {f1_score(y_test, clf.predict(x_test), average='micro')}\")\n",
    "print(f\"После применения PCA F1-score: {f1_score(y_test_pca, clf_pca.predict(x_test_pca), average='micro')}\")"
   ]
  },
  {
   "cell_type": "markdown",
   "metadata": {},
   "source": [
    "2"
   ]
  },
  {
   "cell_type": "code",
   "execution_count": 9,
   "metadata": {},
   "outputs": [
    {
     "name": "stdout",
     "output_type": "stream",
     "text": [
      "[[-2.16199391 -0.20824916]\n",
      " [-1.85386523  0.91972173]\n",
      " [-2.19479706  0.57380492]\n",
      " [-2.08925659  0.79120079]\n",
      " [-2.31201067 -0.38815258]\n",
      " [-2.12862356 -1.2305024 ]\n",
      " [-2.35640215  0.15121396]\n",
      " [-2.09735174  0.02303674]\n",
      " [-2.08266715  1.29544269]\n",
      " [-1.93424093  0.70954986]]\n",
      "...\n"
     ]
    }
   ],
   "source": [
    "def pca_with_svd(X, n_components=None):\n",
    "    x_ = x.astype(float)\n",
    "    x_std = (x_ - np.mean(x_, axis=0))/np.std(x_, axis=0)\n",
    "    U, D, Vt = np.linalg.svd(x_std)\n",
    "    W = Vt[:, 0:n_components]\n",
    "    return x_std.dot(W)\n",
    "\n",
    "print(pca_with_svd(x, n_components=2)[0:10, :])\n",
    "print('...')"
   ]
  }
 ],
 "metadata": {
  "kernelspec": {
   "display_name": "Python 3",
   "language": "python",
   "name": "python3"
  },
  "language_info": {
   "codemirror_mode": {
    "name": "ipython",
    "version": 3
   },
   "file_extension": ".py",
   "mimetype": "text/x-python",
   "name": "python",
   "nbconvert_exporter": "python",
   "pygments_lexer": "ipython3",
   "version": "3.8.3"
  }
 },
 "nbformat": 4,
 "nbformat_minor": 4
}
